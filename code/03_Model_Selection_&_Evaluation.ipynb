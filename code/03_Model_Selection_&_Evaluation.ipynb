{
 "cells": [
  {
   "cell_type": "markdown",
   "id": "19ec12cf-8163-44f0-a014-b2cb171ed2f1",
   "metadata": {},
   "source": [
    " # **<span style=\"font-size:larger;\"> 03: <span style=\"color:blue\">Model Selection & Evaluation</span>** #"
   ]
  },
  {
   "cell_type": "markdown",
   "id": "fb959351-260a-452f-960c-33e521730805",
   "metadata": {},
   "source": [
    "#### Imports and Read-Ins:"
   ]
  },
  {
   "cell_type": "code",
   "execution_count": 28,
   "id": "0be48444-ac75-41dd-bf78-2b804872f6ca",
   "metadata": {},
   "outputs": [],
   "source": [
    "import numpy as np\n",
    "import pandas as pd\n",
    "import matplotlib.pyplot as plt\n",
    "import seaborn as sns\n",
    "from sklearn.model_selection import train_test_split, GridSearchCV, RandomizedSearchCV\n",
    "from sklearn.preprocessing import StandardScaler\n",
    "from sklearn.linear_model import LogisticRegression, LinearRegression, SGDClassifier\n",
    "from sklearn.tree import DecisionTreeClassifier\n",
    "from sklearn.ensemble import RandomForestClassifier, AdaBoostClassifier, GradientBoostingClassifier, ExtraTreesClassifier, BaggingClassifier\n",
    "from sklearn.svm import SVC, LinearSVC\n",
    "from sklearn.metrics import precision_score, recall_score, confusion_matrix, classification_report, accuracy_score, f1_score, ConfusionMatrixDisplay, plot_confusion_matrix\n",
    "from sklearn.neighbors import KNeighborsClassifier\n",
    "\n",
    "from xgboost import XGBClassifier\n",
    "import pickle\n",
    "\n",
    "import warnings\n",
    "warnings.filterwarnings(\"ignore\")"
   ]
  },
  {
   "cell_type": "code",
   "execution_count": 29,
   "id": "580850d4-5654-4902-87b2-b213af7c54c4",
   "metadata": {},
   "outputs": [],
   "source": [
    "import random\n",
    "random.seed(42)"
   ]
  },
  {
   "cell_type": "code",
   "execution_count": 30,
   "id": "f27f0932-a645-47bb-9322-0ece6c82005f",
   "metadata": {},
   "outputs": [],
   "source": [
    "df = pd.read_csv('../data/url_updated.csv')"
   ]
  },
  {
   "cell_type": "markdown",
   "id": "8ffc7989",
   "metadata": {},
   "source": [
    "checking data type"
   ]
  },
  {
   "cell_type": "code",
   "execution_count": 31,
   "id": "be465922",
   "metadata": {},
   "outputs": [
    {
     "name": "stdout",
     "output_type": "stream",
     "text": [
      "<class 'pandas.core.frame.DataFrame'>\n",
      "RangeIndex: 545895 entries, 0 to 545894\n",
      "Data columns (total 72 columns):\n",
      " #   Column                     Non-Null Count   Dtype \n",
      "---  ------                     --------------   ----- \n",
      " 0   url                        545895 non-null  object\n",
      " 1   phishing                   545895 non-null  int64 \n",
      " 2   protocol                   545895 non-null  object\n",
      " 3   domain                     545892 non-null  object\n",
      " 4   path                       540353 non-null  object\n",
      " 5   query                      83726 non-null   object\n",
      " 6   fragment                   636 non-null     object\n",
      " 7   url_length                 545895 non-null  int64 \n",
      " 8   qty_dot_url                545895 non-null  int64 \n",
      " 9   qty_hyphen_url             545895 non-null  int64 \n",
      " 10  qty_slash_url              545895 non-null  int64 \n",
      " 11  qty_questionmark_url       545895 non-null  int64 \n",
      " 12  qty_equal_url              545895 non-null  int64 \n",
      " 13  qty_at_url                 545895 non-null  int64 \n",
      " 14  qty_and_url                545895 non-null  int64 \n",
      " 15  qty_exclamation_url        545895 non-null  int64 \n",
      " 16  qty_space_url              545895 non-null  int64 \n",
      " 17  qty_tilde_url              545895 non-null  int64 \n",
      " 18  qty_comma_url              545895 non-null  int64 \n",
      " 19  qty_plus_url               545895 non-null  int64 \n",
      " 20  qty_asterisk_url           545895 non-null  int64 \n",
      " 21  qty_hashtag_url            545895 non-null  int64 \n",
      " 22  qty_dollar_url             545895 non-null  int64 \n",
      " 23  qty_percent_url            545895 non-null  int64 \n",
      " 24  domain_length              545895 non-null  int64 \n",
      " 25  qty_dot_domain             545895 non-null  int64 \n",
      " 26  qty_hyphen_domain          545895 non-null  int64 \n",
      " 27  path_length                545895 non-null  int64 \n",
      " 28  qty_dot_path               545895 non-null  int64 \n",
      " 29  qty_hyphen_path            545895 non-null  int64 \n",
      " 30  qty_slash_path             545895 non-null  int64 \n",
      " 31  qty_equal_path             545895 non-null  int64 \n",
      " 32  qty_at_path                545895 non-null  int64 \n",
      " 33  qty_and_path               545895 non-null  int64 \n",
      " 34  qty_exclamation_path       545895 non-null  int64 \n",
      " 35  qty_space_path             545895 non-null  int64 \n",
      " 36  qty_tilde_path             545895 non-null  int64 \n",
      " 37  qty_comma_path             545895 non-null  int64 \n",
      " 38  qty_plus_path              545895 non-null  int64 \n",
      " 39  qty_asterisk_path          545895 non-null  int64 \n",
      " 40  qty_dollar_path            545895 non-null  int64 \n",
      " 41  qty_percent_path           545895 non-null  int64 \n",
      " 42  query_length               545895 non-null  int64 \n",
      " 43  qty_dot_query              545895 non-null  int64 \n",
      " 44  qty_hyphen_query           545895 non-null  int64 \n",
      " 45  qty_slash_query            545895 non-null  int64 \n",
      " 46  qty_questionmark_query     545895 non-null  int64 \n",
      " 47  qty_equal_query            545895 non-null  int64 \n",
      " 48  qty_at_query               545895 non-null  int64 \n",
      " 49  qty_and_query              545895 non-null  int64 \n",
      " 50  qty_exclamation_query      545895 non-null  int64 \n",
      " 51  qty_space_query            545895 non-null  int64 \n",
      " 52  qty_tilde_query            545895 non-null  int64 \n",
      " 53  qty_comma_query            545895 non-null  int64 \n",
      " 54  qty_plus_query             545895 non-null  int64 \n",
      " 55  qty_asterisk_query         545895 non-null  int64 \n",
      " 56  qty_dollar_query           545895 non-null  int64 \n",
      " 57  qty_percent_query          545895 non-null  int64 \n",
      " 58  fragment_length            545895 non-null  int64 \n",
      " 59  qty_dot_fragment           545895 non-null  int64 \n",
      " 60  qty_hyphen_fragment        545895 non-null  int64 \n",
      " 61  qty_slash_fragment         545895 non-null  int64 \n",
      " 62  qty_questionmark_fragment  545895 non-null  int64 \n",
      " 63  qty_equal_fragment         545895 non-null  int64 \n",
      " 64  qty_and_fragment           545895 non-null  int64 \n",
      " 65  qty_exclamation_fragment   545895 non-null  int64 \n",
      " 66  qty_space_fragment         545895 non-null  int64 \n",
      " 67  qty_comma_fragment         545895 non-null  int64 \n",
      " 68  qty_asterisk_fragment      545895 non-null  int64 \n",
      " 69  qty_hashtag_fragment       545895 non-null  int64 \n",
      " 70  qty_dollar_fragment        545895 non-null  int64 \n",
      " 71  qty_percent_fragment       545895 non-null  int64 \n",
      "dtypes: int64(66), object(6)\n",
      "memory usage: 299.9+ MB\n"
     ]
    }
   ],
   "source": [
    "df.info()"
   ]
  },
  {
   "cell_type": "markdown",
   "id": "f662391d-fcc6-4ea4-820b-e21eba9b128e",
   "metadata": {},
   "source": [
    "# I. Model Setup"
   ]
  },
  {
   "cell_type": "markdown",
   "id": "7255a84c-3622-43b3-b1cc-6d1766fa5d0c",
   "metadata": {},
   "source": [
    "### Baseline"
   ]
  },
  {
   "cell_type": "code",
   "execution_count": 32,
   "id": "e9ec310a-65af-449a-909e-b542dd879a75",
   "metadata": {},
   "outputs": [
    {
     "data": {
      "text/plain": [
       "0    393555\n",
       "1    152340\n",
       "Name: phishing, dtype: int64"
      ]
     },
     "execution_count": 32,
     "metadata": {},
     "output_type": "execute_result"
    }
   ],
   "source": [
    "df['phishing'].value_counts() #value_counts(normalize=True)"
   ]
  },
  {
   "cell_type": "markdown",
   "id": "62942887-e775-4460-94a8-92a74f0c02ac",
   "metadata": {},
   "source": [
    "### Train Test Split"
   ]
  },
  {
   "cell_type": "code",
   "execution_count": 33,
   "id": "3d2a8069-f684-469f-bc99-7a45958b3285",
   "metadata": {},
   "outputs": [],
   "source": [
    "X = df.drop(columns=['url', 'protocol', 'domain', 'path', 'query', 'fragment','phishing'])\n",
    "\n",
    "y = df['phishing']\n",
    "\n",
    "X_train, X_test, y_train, y_test = train_test_split(X,y,random_state = 42, stratify = y )"
   ]
  },
  {
   "cell_type": "markdown",
   "id": "ee5920d5-b936-4f3a-8eec-0e57b42517b6",
   "metadata": {},
   "source": [
    "### Scale Data"
   ]
  },
  {
   "cell_type": "code",
   "execution_count": 34,
   "id": "37b6a2b9-e088-472b-af03-fa1ef10b7a18",
   "metadata": {},
   "outputs": [],
   "source": [
    "ss = StandardScaler()\n",
    "\n",
    "X_train_sc = ss.fit_transform(X_train)\n",
    "\n",
    "X_test_sc = ss.transform(X_test)"
   ]
  },
  {
   "cell_type": "markdown",
   "id": "da18ac72-e9b2-4fb6-b812-e93ae42a3e3b",
   "metadata": {},
   "source": [
    "# II. Model Selection"
   ]
  },
  {
   "cell_type": "markdown",
   "id": "250367c6-0120-4cda-bb33-e9fc8f6a7145",
   "metadata": {},
   "source": [
    "We will run a single model for each of the following 9 classifiers:\n",
    "\n",
    "- Stochastic Gradient Descent Classifier\n",
    "- Logistic Regression\n",
    "- AdaBoost\n",
    "- Gradient Boost\n",
    "- Decision Tree Classifier\n",
    "- Bagging Classifier\n",
    "- K-Nearest Neighbors Classifier\n",
    "- Extra Trees Classifier\n",
    "- Random Forest Classifier"
   ]
  },
  {
   "cell_type": "markdown",
   "id": "af37b869-613f-4ed0-86cf-6e47f850d8fa",
   "metadata": {},
   "source": [
    "Two functions are built to help aid our model selection process. One for scaled data and one for unscaled data."
   ]
  },
  {
   "cell_type": "code",
   "execution_count": 35,
   "id": "9f6e4f3c-9feb-403e-aba9-6140cfffc87a",
   "metadata": {},
   "outputs": [],
   "source": [
    "def get_scores_sc(model):\n",
    "    \n",
    "    # instantiate model\n",
    "    model = model()\n",
    "    \n",
    "    # fit to scaled data\n",
    "    model.fit(X_train_sc, y_train)\n",
    "    \n",
    "    # make predictions\n",
    "    preds = model.predict(X_test_sc)\n",
    "\n",
    "    # print results\n",
    "    print(f'{model} Training Score: {model.score(X_train_sc, y_train)}')\n",
    "    print(f'{model} Testing Score: {model.score(X_test_sc, y_test)}')\n",
    "    print()\n",
    "    print(\"Classification Report\")\n",
    "    print(classification_report(y_test, preds))\n",
    "    print()\n",
    "    print(\"Confusion Matrix\")\n",
    "    print(confusion_matrix(y_test, preds))\n",
    "\n",
    "    return"
   ]
  },
  {
   "cell_type": "code",
   "execution_count": 36,
   "id": "567083ba-634b-49dc-9e32-83655c117471",
   "metadata": {},
   "outputs": [],
   "source": [
    "def get_scores(model):\n",
    "    \n",
    "    # instantiate model\n",
    "    model = model()\n",
    "    \n",
    "    # fit to data\n",
    "    model.fit(X_train, y_train)\n",
    "    \n",
    "    # make predictions\n",
    "    preds = model.predict(X_test)\n",
    "\n",
    "    # print results\n",
    "    print(f'{model} Training Score: {model.score(X_train, y_train)}')\n",
    "    print(f'{model} Testing Score: {model.score(X_test, y_test)}')\n",
    "    print()\n",
    "    print(\"Classification Report\")\n",
    "    print(classification_report(y_test, preds))\n",
    "    print()\n",
    "    print(\"Confusion Matrix\")\n",
    "    print(confusion_matrix(y_test, preds))\n",
    "\n",
    "    return"
   ]
  },
  {
   "cell_type": "code",
   "execution_count": 9,
   "id": "9b1024f5-a56c-411a-b52f-632ca000c2fe",
   "metadata": {},
   "outputs": [
    {
     "name": "stdout",
     "output_type": "stream",
     "text": [
      "SGDClassifier() Training Score: 0.8753532427501276\n",
      "SGDClassifier() Testing Score: 0.8755440596743702\n",
      "\n",
      "Classification Report\n",
      "              precision    recall  f1-score   support\n",
      "\n",
      "           0       0.86      0.98      0.92     98389\n",
      "           1       0.92      0.60      0.73     38085\n",
      "\n",
      "    accuracy                           0.88    136474\n",
      "   macro avg       0.89      0.79      0.82    136474\n",
      "weighted avg       0.88      0.88      0.87    136474\n",
      "\n",
      "\n",
      "Confusion Matrix\n",
      "[[96467  1922]\n",
      " [15063 23022]]\n"
     ]
    }
   ],
   "source": [
    "get_scores_sc(SGDClassifier)"
   ]
  },
  {
   "cell_type": "code",
   "execution_count": 10,
   "id": "cba422b8-66ba-4be5-b654-30d13796b239",
   "metadata": {},
   "outputs": [
    {
     "name": "stdout",
     "output_type": "stream",
     "text": [
      "AdaBoostClassifier() Training Score: 0.890550313735739\n",
      "AdaBoostClassifier() Testing Score: 0.8911953925289798\n",
      "\n",
      "Classification Report\n",
      "              precision    recall  f1-score   support\n",
      "\n",
      "           0       0.88      0.98      0.93     98389\n",
      "           1       0.92      0.67      0.78     38085\n",
      "\n",
      "    accuracy                           0.89    136474\n",
      "   macro avg       0.90      0.82      0.85    136474\n",
      "weighted avg       0.89      0.89      0.89    136474\n",
      "\n",
      "\n",
      "Confusion Matrix\n",
      "[[96051  2338]\n",
      " [12511 25574]]\n"
     ]
    }
   ],
   "source": [
    "get_scores(AdaBoostClassifier)"
   ]
  },
  {
   "cell_type": "code",
   "execution_count": 11,
   "id": "3fa7a10b-aa81-45c2-b655-d38c74eecd04",
   "metadata": {},
   "outputs": [
    {
     "name": "stdout",
     "output_type": "stream",
     "text": [
      "GradientBoostingClassifier() Training Score: 0.89645377252266\n",
      "GradientBoostingClassifier() Testing Score: 0.8977680730395533\n",
      "\n",
      "Classification Report\n",
      "              precision    recall  f1-score   support\n",
      "\n",
      "           0       0.89      0.98      0.93     98389\n",
      "           1       0.93      0.69      0.79     38085\n",
      "\n",
      "    accuracy                           0.90    136474\n",
      "   macro avg       0.91      0.83      0.86    136474\n",
      "weighted avg       0.90      0.90      0.89    136474\n",
      "\n",
      "\n",
      "Confusion Matrix\n",
      "[[96284  2105]\n",
      " [11847 26238]]\n"
     ]
    }
   ],
   "source": [
    "get_scores(GradientBoostingClassifier)"
   ]
  },
  {
   "cell_type": "code",
   "execution_count": 12,
   "id": "821a78b6-5382-4c5b-bb60-91b3c9bc4a9a",
   "metadata": {},
   "outputs": [
    {
     "name": "stdout",
     "output_type": "stream",
     "text": [
      "LogisticRegression() Training Score: 0.9251064307888457\n",
      "LogisticRegression() Testing Score: 0.9245057666661781\n",
      "\n",
      "Classification Report\n",
      "              precision    recall  f1-score   support\n",
      "\n",
      "           0       0.91      0.99      0.95     98389\n",
      "           1       0.97      0.75      0.85     38085\n",
      "\n",
      "    accuracy                           0.92    136474\n",
      "   macro avg       0.94      0.87      0.90    136474\n",
      "weighted avg       0.93      0.92      0.92    136474\n",
      "\n",
      "\n",
      "Confusion Matrix\n",
      "[[97436   953]\n",
      " [ 9350 28735]]\n"
     ]
    }
   ],
   "source": [
    "get_scores_sc(LogisticRegression)"
   ]
  },
  {
   "cell_type": "code",
   "execution_count": 18,
   "id": "7d13d06a-e772-4634-9ab5-24eb9cf46c60",
   "metadata": {},
   "outputs": [
    {
     "ename": "TypeError",
     "evalue": "'KNeighborsClassifier' object is not callable",
     "output_type": "error",
     "traceback": [
      "\u001b[1;31m---------------------------------------------------------------------------\u001b[0m",
      "\u001b[1;31mTypeError\u001b[0m                                 Traceback (most recent call last)",
      "\u001b[1;32m~\\AppData\\Local\\Temp/ipykernel_4532/1885717189.py\u001b[0m in \u001b[0;36m<module>\u001b[1;34m\u001b[0m\n\u001b[1;32m----> 1\u001b[1;33m \u001b[0mget_scores_sc\u001b[0m\u001b[1;33m(\u001b[0m\u001b[0mKNeighborsClassifier\u001b[0m\u001b[1;33m(\u001b[0m\u001b[0mn_neighbors\u001b[0m\u001b[1;33m=\u001b[0m\u001b[1;36m3\u001b[0m\u001b[1;33m)\u001b[0m\u001b[1;33m)\u001b[0m\u001b[1;33m\u001b[0m\u001b[1;33m\u001b[0m\u001b[0m\n\u001b[0m",
      "\u001b[1;32m~\\AppData\\Local\\Temp/ipykernel_4532/3544861530.py\u001b[0m in \u001b[0;36mget_scores_sc\u001b[1;34m(model)\u001b[0m\n\u001b[0;32m      2\u001b[0m \u001b[1;33m\u001b[0m\u001b[0m\n\u001b[0;32m      3\u001b[0m     \u001b[1;31m# instantiate model\u001b[0m\u001b[1;33m\u001b[0m\u001b[1;33m\u001b[0m\u001b[0m\n\u001b[1;32m----> 4\u001b[1;33m     \u001b[0mmodel\u001b[0m \u001b[1;33m=\u001b[0m \u001b[0mmodel\u001b[0m\u001b[1;33m(\u001b[0m\u001b[1;33m)\u001b[0m\u001b[1;33m\u001b[0m\u001b[1;33m\u001b[0m\u001b[0m\n\u001b[0m\u001b[0;32m      5\u001b[0m \u001b[1;33m\u001b[0m\u001b[0m\n\u001b[0;32m      6\u001b[0m     \u001b[1;31m# fit to scaled data\u001b[0m\u001b[1;33m\u001b[0m\u001b[1;33m\u001b[0m\u001b[0m\n",
      "\u001b[1;31mTypeError\u001b[0m: 'KNeighborsClassifier' object is not callable"
     ]
    }
   ],
   "source": [
    "get_scores_sc(KNeighborsClassifier)"
   ]
  },
  {
   "cell_type": "code",
   "execution_count": 15,
   "id": "35141a59-c53e-4133-8974-54cbdab2541c",
   "metadata": {},
   "outputs": [
    {
     "ename": "KeyboardInterrupt",
     "evalue": "",
     "output_type": "error",
     "traceback": [
      "\u001b[1;31m---------------------------------------------------------------------------\u001b[0m",
      "\u001b[1;31mKeyboardInterrupt\u001b[0m                         Traceback (most recent call last)",
      "\u001b[1;32m~\\AppData\\Local\\Temp/ipykernel_4532/3261960240.py\u001b[0m in \u001b[0;36m<module>\u001b[1;34m\u001b[0m\n\u001b[1;32m----> 1\u001b[1;33m \u001b[0mget_scores\u001b[0m\u001b[1;33m(\u001b[0m\u001b[0mDecisionTreeClassifier\u001b[0m\u001b[1;33m)\u001b[0m\u001b[1;33m\u001b[0m\u001b[1;33m\u001b[0m\u001b[0m\n\u001b[0m",
      "\u001b[1;32m~\\AppData\\Local\\Temp/ipykernel_4532/3607102157.py\u001b[0m in \u001b[0;36mget_scores\u001b[1;34m(model)\u001b[0m\n\u001b[0;32m      5\u001b[0m \u001b[1;33m\u001b[0m\u001b[0m\n\u001b[0;32m      6\u001b[0m     \u001b[1;31m# fit to data\u001b[0m\u001b[1;33m\u001b[0m\u001b[1;33m\u001b[0m\u001b[0m\n\u001b[1;32m----> 7\u001b[1;33m     \u001b[0mmodel\u001b[0m\u001b[1;33m.\u001b[0m\u001b[0mfit\u001b[0m\u001b[1;33m(\u001b[0m\u001b[0mX_train\u001b[0m\u001b[1;33m,\u001b[0m \u001b[0my_train\u001b[0m\u001b[1;33m)\u001b[0m\u001b[1;33m\u001b[0m\u001b[1;33m\u001b[0m\u001b[0m\n\u001b[0m\u001b[0;32m      8\u001b[0m \u001b[1;33m\u001b[0m\u001b[0m\n\u001b[0;32m      9\u001b[0m     \u001b[1;31m# make predictions\u001b[0m\u001b[1;33m\u001b[0m\u001b[1;33m\u001b[0m\u001b[0m\n",
      "\u001b[1;32mD:\\Program Files\\anaconda3\\lib\\site-packages\\sklearn\\tree\\_classes.py\u001b[0m in \u001b[0;36mfit\u001b[1;34m(self, X, y, sample_weight, check_input, X_idx_sorted)\u001b[0m\n\u001b[0;32m    901\u001b[0m         \"\"\"\n\u001b[0;32m    902\u001b[0m \u001b[1;33m\u001b[0m\u001b[0m\n\u001b[1;32m--> 903\u001b[1;33m         super().fit(\n\u001b[0m\u001b[0;32m    904\u001b[0m             \u001b[0mX\u001b[0m\u001b[1;33m,\u001b[0m \u001b[0my\u001b[0m\u001b[1;33m,\u001b[0m\u001b[1;33m\u001b[0m\u001b[1;33m\u001b[0m\u001b[0m\n\u001b[0;32m    905\u001b[0m             \u001b[0msample_weight\u001b[0m\u001b[1;33m=\u001b[0m\u001b[0msample_weight\u001b[0m\u001b[1;33m,\u001b[0m\u001b[1;33m\u001b[0m\u001b[1;33m\u001b[0m\u001b[0m\n",
      "\u001b[1;32mD:\\Program Files\\anaconda3\\lib\\site-packages\\sklearn\\tree\\_classes.py\u001b[0m in \u001b[0;36mfit\u001b[1;34m(self, X, y, sample_weight, check_input, X_idx_sorted)\u001b[0m\n\u001b[0;32m    392\u001b[0m                                            min_impurity_split)\n\u001b[0;32m    393\u001b[0m \u001b[1;33m\u001b[0m\u001b[0m\n\u001b[1;32m--> 394\u001b[1;33m         \u001b[0mbuilder\u001b[0m\u001b[1;33m.\u001b[0m\u001b[0mbuild\u001b[0m\u001b[1;33m(\u001b[0m\u001b[0mself\u001b[0m\u001b[1;33m.\u001b[0m\u001b[0mtree_\u001b[0m\u001b[1;33m,\u001b[0m \u001b[0mX\u001b[0m\u001b[1;33m,\u001b[0m \u001b[0my\u001b[0m\u001b[1;33m,\u001b[0m \u001b[0msample_weight\u001b[0m\u001b[1;33m)\u001b[0m\u001b[1;33m\u001b[0m\u001b[1;33m\u001b[0m\u001b[0m\n\u001b[0m\u001b[0;32m    395\u001b[0m \u001b[1;33m\u001b[0m\u001b[0m\n\u001b[0;32m    396\u001b[0m         \u001b[1;32mif\u001b[0m \u001b[0mself\u001b[0m\u001b[1;33m.\u001b[0m\u001b[0mn_outputs_\u001b[0m \u001b[1;33m==\u001b[0m \u001b[1;36m1\u001b[0m \u001b[1;32mand\u001b[0m \u001b[0mis_classifier\u001b[0m\u001b[1;33m(\u001b[0m\u001b[0mself\u001b[0m\u001b[1;33m)\u001b[0m\u001b[1;33m:\u001b[0m\u001b[1;33m\u001b[0m\u001b[1;33m\u001b[0m\u001b[0m\n",
      "\u001b[1;31mKeyboardInterrupt\u001b[0m: "
     ]
    }
   ],
   "source": [
    "get_scores(DecisionTreeClassifier)"
   ]
  },
  {
   "cell_type": "code",
   "execution_count": 13,
   "id": "588b231d-2b43-4580-9ef1-97e7a7d5b2cc",
   "metadata": {},
   "outputs": [
    {
     "name": "stdout",
     "output_type": "stream",
     "text": [
      "BaggingClassifier() Training Score: 0.9759098824925933\n",
      "BaggingClassifier() Testing Score: 0.9426703987572724\n",
      "\n",
      "              precision    recall  f1-score   support\n",
      "\n",
      "           0       0.95      0.98      0.96     98389\n",
      "           1       0.94      0.85      0.89     38085\n",
      "\n",
      "    accuracy                           0.94    136474\n",
      "   macro avg       0.94      0.92      0.93    136474\n",
      "weighted avg       0.94      0.94      0.94    136474\n",
      "\n",
      "[[96158  2231]\n",
      " [ 5593 32492]]\n"
     ]
    }
   ],
   "source": [
    "get_scores(BaggingClassifier)"
   ]
  },
  {
   "cell_type": "code",
   "execution_count": 9,
   "id": "4ff8cd61-71ca-4d45-b893-6bc358e23d7c",
   "metadata": {},
   "outputs": [
    {
     "name": "stdout",
     "output_type": "stream",
     "text": [
      "ExtraTreesClassifier() Training Score: 0.9790655584349606\n",
      "ExtraTreesClassifier() Testing Score: 0.9435643419259346\n",
      "\n",
      "              precision    recall  f1-score   support\n",
      "\n",
      "           0       0.95      0.98      0.96     98389\n",
      "           1       0.93      0.86      0.89     38085\n",
      "\n",
      "    accuracy                           0.94    136474\n",
      "   macro avg       0.94      0.92      0.93    136474\n",
      "weighted avg       0.94      0.94      0.94    136474\n",
      "\n",
      "[[96078  2311]\n",
      " [ 5391 32694]]\n"
     ]
    }
   ],
   "source": [
    "get_scores(ExtraTreesClassifier)"
   ]
  },
  {
   "cell_type": "code",
   "execution_count": 11,
   "id": "0594a2d6-43e2-4ae7-8941-e011d6c71939",
   "metadata": {},
   "outputs": [
    {
     "name": "stdout",
     "output_type": "stream",
     "text": [
      "RandomForestClassifier() Training Score: 0.952580873868739\n",
      "RandomForestClassifier() Testing Score: 0.8959045791975978\n",
      "\n",
      "Classification Report\n",
      "              precision    recall  f1-score   support\n",
      "\n",
      "           0       0.88      0.92      0.90     12002\n",
      "           1       0.92      0.87      0.89     11976\n",
      "\n",
      "    accuracy                           0.90     23978\n",
      "   macro avg       0.90      0.90      0.90     23978\n",
      "weighted avg       0.90      0.90      0.90     23978\n",
      "\n",
      "\n",
      "Confusion Matrix\n",
      "[[11036   966]\n",
      " [ 1530 10446]]\n"
     ]
    }
   ],
   "source": [
    "get_scores(RandomForestClassifier)"
   ]
  },
  {
   "cell_type": "markdown",
   "id": "78d42440-d373-465d-9e3e-349332fc5215",
   "metadata": {},
   "source": [
    "Random Forest Classifier will be used for model deployment as it had the highest testing score, as well as the highest recall score."
   ]
  },
  {
   "cell_type": "markdown",
   "id": "fd74b1c9-1c25-412a-92bc-b6762b361918",
   "metadata": {},
   "source": [
    "# III. Model Optimization"
   ]
  },
  {
   "cell_type": "markdown",
   "id": "3a816f14-aa01-48b3-b9f8-7d7bf8253d45",
   "metadata": {},
   "source": [
    "Using `RandomizedSearchCV`, we are able to find the best parameters for the model."
   ]
  },
  {
   "cell_type": "code",
   "execution_count": 12,
   "id": "82c91735-bb54-4f86-8c34-50e9b5635faa",
   "metadata": {},
   "outputs": [
    {
     "name": "stdout",
     "output_type": "stream",
     "text": [
      "Fitting 3 folds for each of 10 candidates, totalling 30 fits\n",
      "Best Parameters: {'n_estimators': 600, 'min_samples_split': 5, 'min_samples_leaf': 2, 'max_features': 'auto', 'max_depth': 40, 'bootstrap': True}\n"
     ]
    }
   ],
   "source": [
    "rfc = RandomForestClassifier()\n",
    "rfc_params = {'bootstrap': [True, False],\n",
    "               'max_depth': [10, 20, 30, 40, 50, 60, 70, 80, 90, 100, None],\n",
    "               'max_features': ['auto', 'sqrt'],\n",
    "               'min_samples_leaf': [1, 2, 4],\n",
    "               'min_samples_split': [2, 5, 10],\n",
    "               'n_estimators': [200, 400, 600, 800, 1000, 1200, 1400, 1600]}\n",
    "\n",
    "rfc_random = RandomizedSearchCV(estimator = rfc, param_distributions = rfc_params, cv = 3, verbose=2, random_state=42, \n",
    "                                n_jobs = -1)\n",
    "rfc_random.fit(X_train, y_train)\n",
    "print(f'Best Parameters: {rfc_random.best_params_}')"
   ]
  },
  {
   "cell_type": "code",
   "execution_count": 37,
   "id": "1137985c-1046-4a9a-9a92-90d7c267b835",
   "metadata": {},
   "outputs": [
    {
     "name": "stdout",
     "output_type": "stream",
     "text": [
      "Training Score: 0.9338822385759402\n",
      "Testing Score: 0.9245204214722218\n",
      "\n",
      "              precision    recall  f1-score   support\n",
      "\n",
      "           0       0.92      0.98      0.95     98389\n",
      "           1       0.94      0.78      0.85     38085\n",
      "\n",
      "    accuracy                           0.92    136474\n",
      "   macro avg       0.93      0.88      0.90    136474\n",
      "weighted avg       0.93      0.92      0.92    136474\n",
      "\n",
      "[[96645  1744]\n",
      " [ 8557 29528]]\n"
     ]
    },
    {
     "data": {
      "image/png": "[encoded data removed]",
      "text/plain": [
       "<Figure size 432x288 with 2 Axes>"
      ]
     },
     "metadata": {
      "needs_background": "light"
     },
     "output_type": "display_data"
    }
   ],
   "source": [
    "rfc = RandomForestClassifier(n_estimators = 600, min_samples_split= 5, min_samples_leaf= 2, max_features= 'auto', max_depth= 40, \n",
    "                             bootstrap= True, n_jobs= -1, random_state=42)\n",
    "rfc.fit(X_train, y_train)\n",
    "\n",
    "preds = rfc.predict(X_test)\n",
    "print(f'Training Score: {rfc.score(X_train, y_train)}')\n",
    "print(f'Testing Score: {rfc.score(X_test, y_test)}')\n",
    "print()\n",
    "print(classification_report(y_test,preds))\n",
    "print(confusion_matrix(y_test, preds))\n",
    "\n",
    "cm = confusion_matrix(y_test, preds)\n",
    "disp = ConfusionMatrixDisplay(confusion_matrix = cm, display_labels = rfc.classes_)\n",
    "disp.plot(cmap = 'Reds', values_format=''); "
   ]
  },
  {
   "cell_type": "code",
   "execution_count": 38,
   "id": "0bc75ae5-578b-4d1e-ae9d-8b30376ba85c",
   "metadata": {},
   "outputs": [
    {
     "name": "stdout",
     "output_type": "stream",
     "text": [
      "Accuracy:  0.9245204214722218\n",
      "Misclassification Rate:  0.07547957852777819\n",
      "Recall:  0.7753183668110805\n",
      "Specificity:  0.9822744412485136\n",
      "Precision:  0.9442312611921208\n"
     ]
    }
   ],
   "source": [
    "tn, fp, fn, tp = confusion_matrix(y_test, preds).ravel()\n",
    "\n",
    "print(\"Accuracy: \", (tn + tp) / (tn + fp + fn + tp))\n",
    "print('Misclassification Rate: ', (fp+fn)/(tp+fp+tn+fn))\n",
    "print(\"Recall: \", tp / (tp + fn))\n",
    "print(\"Specificity: \", tn / (tn + fp))\n",
    "print(\"Precision: \", tp / (tp + fp))"
   ]
  },
  {
   "cell_type": "markdown",
   "id": "c932e994-36fc-4fc7-af16-cb63f9ffdb45",
   "metadata": {},
   "source": [
    "### Pickeling Model"
   ]
  },
  {
   "cell_type": "markdown",
   "id": "093e99c5-26d8-4d72-93c3-d339c7b42c44",
   "metadata": {},
   "source": [
    "We will pickel this model in order to use for deployment."
   ]
  },
  {
   "cell_type": "code",
   "execution_count": null,
   "id": "646d1e5f-e074-4926-aa01-2700ab7cebb8",
   "metadata": {},
   "outputs": [],
   "source": [
    "import joblib\n",
    "filename = 'model2_final.sav'\n",
    "#pickle.dump(rfc, open(filename,'wb'))\n",
    "joblib.dump(rfc, open(filename,'wb'))\n",
    "#pickle.dump(rfc, open('../streamlit_app/rfc1.pkl','wb'))\n",
    "#joblib.dump(rfc, open('../streamlit_app/rfc11.sav','wb'))\n"
   ]
  },
  {
   "cell_type": "markdown",
   "id": "abee27ea-d7ec-4f07-ae21-c8c52c1c0d4c",
   "metadata": {},
   "source": [
    "# IV. Closer Look"
   ]
  },
  {
   "cell_type": "markdown",
   "id": "eeba3ee9-60e3-4b47-b8f3-558dcd18c935",
   "metadata": {},
   "source": [
    "A closer look into the importance of each feature can be analyzed."
   ]
  },
  {
   "cell_type": "code",
   "execution_count": 40,
   "id": "e5d14194-df81-4948-9d5d-cd181556c679",
   "metadata": {},
   "outputs": [
    {
     "name": "stdout",
     "output_type": "stream",
     "text": [
      "Variable: qty_dot_domain       Importance: 0.345\n",
      "Variable: qty_dot_url          Importance: 0.147\n",
      "Variable: url_length           Importance: 0.082\n",
      "Variable: domain_length        Importance: 0.074\n",
      "Variable: path_length          Importance: 0.052\n",
      "Variable: qty_dot_path         Importance: 0.052\n",
      "Variable: query_length         Importance: 0.035\n",
      "Variable: qty_slash_url        Importance: 0.033\n",
      "Variable: qty_hyphen_path      Importance: 0.027\n",
      "Variable: qty_slash_path       Importance: 0.025\n",
      "Variable: qty_dot_query        Importance: 0.02\n",
      "Variable: qty_hyphen_url       Importance: 0.018\n",
      "Variable: qty_hyphen_domain    Importance: 0.015\n",
      "Variable: qty_equal_url        Importance: 0.01\n",
      "Variable: qty_questionmark_url Importance: 0.008\n",
      "Variable: qty_and_url          Importance: 0.007\n",
      "Variable: qty_equal_path       Importance: 0.007\n",
      "Variable: qty_equal_query      Importance: 0.007\n",
      "Variable: qty_slash_query      Importance: 0.005\n",
      "Variable: qty_and_query        Importance: 0.005\n",
      "Variable: qty_plus_url         Importance: 0.004\n",
      "Variable: qty_questionmark_query Importance: 0.004\n",
      "Variable: qty_hyphen_query     Importance: 0.003\n",
      "Variable: qty_at_url           Importance: 0.002\n",
      "Variable: qty_tilde_url        Importance: 0.002\n",
      "Variable: qty_percent_url      Importance: 0.002\n",
      "Variable: qty_tilde_path       Importance: 0.002\n",
      "Variable: qty_plus_path        Importance: 0.002\n",
      "Variable: qty_at_query         Importance: 0.002\n",
      "Variable: qty_space_url        Importance: 0.001\n",
      "Variable: qty_comma_url        Importance: 0.001\n",
      "Variable: qty_percent_path     Importance: 0.001\n",
      "Variable: qty_plus_query       Importance: 0.001\n",
      "Variable: qty_percent_query    Importance: 0.001\n",
      "Variable: qty_exclamation_url  Importance: 0.0\n",
      "Variable: qty_asterisk_url     Importance: 0.0\n",
      "Variable: qty_hashtag_url      Importance: 0.0\n",
      "Variable: qty_dollar_url       Importance: 0.0\n",
      "Variable: qty_at_path          Importance: 0.0\n",
      "Variable: qty_and_path         Importance: 0.0\n",
      "Variable: qty_exclamation_path Importance: 0.0\n",
      "Variable: qty_space_path       Importance: 0.0\n",
      "Variable: qty_comma_path       Importance: 0.0\n",
      "Variable: qty_asterisk_path    Importance: 0.0\n",
      "Variable: qty_dollar_path      Importance: 0.0\n",
      "Variable: qty_exclamation_query Importance: 0.0\n",
      "Variable: qty_space_query      Importance: 0.0\n",
      "Variable: qty_tilde_query      Importance: 0.0\n",
      "Variable: qty_comma_query      Importance: 0.0\n",
      "Variable: qty_asterisk_query   Importance: 0.0\n",
      "Variable: qty_dollar_query     Importance: 0.0\n",
      "Variable: fragment_length      Importance: 0.0\n",
      "Variable: qty_dot_fragment     Importance: 0.0\n",
      "Variable: qty_hyphen_fragment  Importance: 0.0\n",
      "Variable: qty_slash_fragment   Importance: 0.0\n",
      "Variable: qty_questionmark_fragment Importance: 0.0\n",
      "Variable: qty_equal_fragment   Importance: 0.0\n",
      "Variable: qty_and_fragment     Importance: 0.0\n",
      "Variable: qty_exclamation_fragment Importance: 0.0\n",
      "Variable: qty_space_fragment   Importance: 0.0\n",
      "Variable: qty_comma_fragment   Importance: 0.0\n",
      "Variable: qty_asterisk_fragment Importance: 0.0\n",
      "Variable: qty_hashtag_fragment Importance: 0.0\n",
      "Variable: qty_dollar_fragment  Importance: 0.0\n",
      "Variable: qty_percent_fragment Importance: 0.0\n"
     ]
    }
   ],
   "source": [
    "# Create feature list\n",
    "feature_list = list(X.columns)\n",
    "\n",
    "# Get numerical feature importances\n",
    "importances = list(rfc.feature_importances_)\n",
    "\n",
    "# List of tuples with variable and importance\n",
    "feature_importances = [(feature, round(importance, 3)) for feature, importance in zip(feature_list, importances)]\n",
    "\n",
    "# Sort the feature importances by most important first\n",
    "feature_importances = sorted(feature_importances, key = lambda x: x[1], reverse = True)\n",
    "\n",
    "# Print\n",
    "[print('Variable: {:20} Importance: {}'.format(*pair)) for pair in feature_importances];"
   ]
  },
  {
   "cell_type": "code",
   "execution_count": null,
   "id": "ef280597",
   "metadata": {},
   "outputs": [],
   "source": []
  }
 ],
 "metadata": {
  "kernelspec": {
   "display_name": "Python 3 (ipykernel)",
   "language": "python",
   "name": "python3"
  },
  "language_info": {
   "codemirror_mode": {
    "name": "ipython",
    "version": 3
   },
   "file_extension": ".py",
   "mimetype": "text/x-python",
   "name": "python",
   "nbconvert_exporter": "python",
   "pygments_lexer": "ipython3",
   "version": "3.9.7"
  }
 },
 "nbformat": 4,
 "nbformat_minor": 5
}
